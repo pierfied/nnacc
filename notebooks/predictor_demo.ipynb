{
 "cells": [
  {
   "cell_type": "code",
   "execution_count": 1,
   "id": "27438988-37f9-4d08-b7ee-10173167722e",
   "metadata": {},
   "outputs": [],
   "source": [
    "import torch\n",
    "from torch.utils.data import Dataset, DataLoader\n",
    "import nnacc\n",
    "from glob import glob\n",
    "import numpy as np\n",
    "import matplotlib.pyplot as plt\n",
    "import torch.nn as nn"
   ]
  },
  {
   "cell_type": "code",
   "execution_count": 2,
   "id": "d54c9440-c70d-4179-9d84-d154dbb6448c",
   "metadata": {},
   "outputs": [],
   "source": [
    "data_dir = './demo_data/'\n",
    "\n",
    "mask = np.loadtxt(data_dir + 'mask_gamma.txt')[:,1].astype(bool)\n",
    "\n",
    "X_train = np.loadtxt(data_dir + 'X_train.txt')\n",
    "X_val = np.loadtxt(data_dir + 'X_val.txt')\n",
    "\n",
    "y_train = np.load(data_dir + 'y_train.npy')[:,mask,1]\n",
    "y_val = np.load(data_dir + 'y_val.npy')[:,mask,1]\n",
    "\n",
    "inv_cov = np.load(data_dir + 'invcov_gamma.npy')[:,mask][mask,:]"
   ]
  },
  {
   "cell_type": "code",
   "execution_count": 3,
   "id": "bb2abe92-73b0-4d1d-a906-3ab693871038",
   "metadata": {},
   "outputs": [],
   "source": [
    "cov = np.linalg.inv(inv_cov)\n",
    "sigma = np.sqrt(np.diag(cov))\n",
    "\n",
    "cov /= sigma[None,:] * sigma[:,None]\n",
    "y_train /= sigma[None,:]\n",
    "y_val /= sigma[None,:]\n",
    "\n",
    "inv_cov = np.linalg.inv(cov)"
   ]
  },
  {
   "cell_type": "code",
   "execution_count": 4,
   "id": "ac4419cd-e43d-4f96-8bb8-fe931ddf1a05",
   "metadata": {},
   "outputs": [],
   "source": [
    "plow, med, phigh = np.percentile(y_train, [5, 50, 95], axis=0)\n",
    "\n",
    "bad_inds_train = np.sum(np.abs(y_train - med[None,:]) > 10 * (phigh - plow), axis=-1) > 0\n",
    "bad_inds_val = np.sum(np.abs(y_val - med[None,:]) > 10 * (phigh - plow), axis=-1) > 0\n",
    "\n",
    "X_train = X_train[~bad_inds_train,:]\n",
    "X_val = X_val[~bad_inds_val,:]\n",
    "\n",
    "y_train = y_train[~bad_inds_train,:]\n",
    "y_val = y_val[~bad_inds_val,:]"
   ]
  },
  {
   "cell_type": "code",
   "execution_count": 5,
   "id": "27fe8708-bdae-49ed-8036-a38db9211c52",
   "metadata": {},
   "outputs": [],
   "source": [
    "class ArrayDataset(Dataset):\n",
    "    def __init__(self, X, y):\n",
    "        self.X = X.astype(np.float32)\n",
    "        self.y = y.astype(np.float32)\n",
    "        \n",
    "    def __len__(self):\n",
    "        return self.X.shape[0]\n",
    "    \n",
    "    def __getitem__(self, i):\n",
    "        return self.X[i,:], self.y[i,:]"
   ]
  },
  {
   "cell_type": "code",
   "execution_count": 6,
   "id": "6d7d3a8b-d2b0-48a6-a1e1-014ad59eec29",
   "metadata": {},
   "outputs": [],
   "source": [
    "batch_size = 128\n",
    "\n",
    "train_dataset = ArrayDataset(X_train, y_train)\n",
    "val_dataset = ArrayDataset(X_val, y_val)\n",
    "\n",
    "train_loader = DataLoader(train_dataset, batch_size=batch_size, shuffle=True)\n",
    "val_loader = DataLoader(val_dataset, batch_size=len(y_val))"
   ]
  },
  {
   "cell_type": "code",
   "execution_count": 7,
   "id": "b3f9991f-8c02-4ec1-9027-9583952e854e",
   "metadata": {},
   "outputs": [],
   "source": [
    "X_mean = torch.tensor(X_train.mean(axis=0), dtype=torch.float32)\n",
    "X_std = torch.tensor(X_train.std(axis=0), dtype=torch.float32)\n",
    "\n",
    "class X_transform(nn.Module):\n",
    "    def __init__(self, X_mean=None, X_std=None):\n",
    "        super(X_transform, self).__init__()\n",
    "        \n",
    "        self.X_mean = nn.Parameter(X_mean)\n",
    "        self.X_std = nn.Parameter(X_std)\n",
    "        \n",
    "    def forward(self, X):\n",
    "        return (X - self.X_mean[None,:]) / self.X_std[None,:]\n",
    "\n",
    "y_mean = torch.tensor(y_train.mean(axis=0), dtype=torch.float32)\n",
    "y_std = torch.tensor(y_train.std(axis=0), dtype=torch.float32)\n",
    "\n",
    "class y_transform(nn.Module):\n",
    "    def __init__(self, y_mean=None, y_std=None):\n",
    "        super(y_transform, self).__init__()\n",
    "        \n",
    "        self.y_mean = nn.Parameter(y_mean)\n",
    "        self.y_std = nn.Parameter(y_std)\n",
    "        \n",
    "    def forward(self, y):\n",
    "        return y * self.y_std[None,:] + self.y_mean[None,:]"
   ]
  },
  {
   "cell_type": "code",
   "execution_count": 8,
   "id": "aabfed1e-bd11-45cc-89df-810b2aa0dea8",
   "metadata": {},
   "outputs": [],
   "source": [
    "inv_cov_tensor = torch.tensor(inv_cov, dtype=torch.float32)\n",
    "\n",
    "def loss_fn(y_pred, y_target):\n",
    "    delta = y_pred - y_target\n",
    "    chisq = torch.sum((delta @ inv_cov_tensor) * delta, dim=-1)\n",
    "    \n",
    "    loss = torch.mean(chisq) / y_target.shape[-1]\n",
    "    \n",
    "    return loss\n",
    "\n",
    "def val_metric_fn(y_pred, y_target):\n",
    "    delta = y_pred - y_target\n",
    "    chisq = torch.sum((delta @ inv_cov_tensor) * delta, dim=-1)\n",
    "    \n",
    "    mean_chisq_dof = torch.mean(chisq) / y_target.shape[-1]\n",
    "    max_chisq_dof = torch.max(chisq) / y_target.shape[-1]\n",
    "    \n",
    "    return torch.tensor([mean_chisq_dof, max_chisq_dof])"
   ]
  },
  {
   "cell_type": "code",
   "execution_count": 9,
   "id": "7a1a1f2a-f207-4794-a272-42f0dd57f26d",
   "metadata": {},
   "outputs": [],
   "source": [
    "model = nnacc.Predictor(X_train.shape[-1], y_train.shape[-1], X_transform=X_transform(X_mean, X_std), y_transform=y_transform(y_mean, y_std))"
   ]
  },
  {
   "cell_type": "code",
   "execution_count": 10,
   "id": "31bd4183-f872-4971-9d21-33af5a96d277",
   "metadata": {},
   "outputs": [
    {
     "data": {
      "application/vnd.jupyter.widget-view+json": {
       "model_id": "9125edd1ee4b4c2c9be1ef962241c708",
       "version_major": 2,
       "version_minor": 0
      },
      "text/plain": [
       "  0%|          | 0/50 [00:00<?, ?it/s]"
      ]
     },
     "metadata": {},
     "output_type": "display_data"
    }
   ],
   "source": [
    "num_epochs = 50\n",
    "\n",
    "train_loss, val_metric = model.train(train_loader, num_epochs, loss_fn, val_loader, val_metric_fn)"
   ]
  },
  {
   "cell_type": "code",
   "execution_count": 11,
   "id": "e0a5c7a1-b03a-4a8b-9d87-7e95710bdeda",
   "metadata": {},
   "outputs": [
    {
     "data": {
      "image/png": "[encoded data removed]",
      "text/plain": [
       "<Figure size 432x288 with 1 Axes>"
      ]
     },
     "metadata": {
      "needs_background": "light"
     },
     "output_type": "display_data"
    }
   ],
   "source": [
    "plt.plot(np.linspace(0, num_epochs, len(train_loss)), train_loss, label='Training Mean')\n",
    "plt.plot(np.arange(1, num_epochs+1), val_metric[:,0], label='Validation Mean')\n",
    "plt.plot(np.arange(1, num_epochs+1), val_metric[:,1], label='Validation Max')\n",
    "plt.yscale('log')\n",
    "plt.xlabel('Epoch')\n",
    "plt.ylabel('$\\\\chi^2 / dof$')\n",
    "plt.legend()\n",
    "plt.show()"
   ]
  },
  {
   "cell_type": "code",
   "execution_count": 12,
   "id": "773593b0-2c38-45ae-a812-0512af321945",
   "metadata": {},
   "outputs": [],
   "source": [
    "torch.save(model.state_dict(), data_dir + 'model.pt')"
   ]
  },
  {
   "cell_type": "code",
   "execution_count": null,
   "id": "d065a77e-b6ba-47c6-b11e-5de6f3d7b244",
   "metadata": {},
   "outputs": [],
   "source": []
  }
 ],
 "metadata": {
  "kernelspec": {
   "display_name": "Python 3",
   "language": "python",
   "name": "python3"
  },
  "language_info": {
   "codemirror_mode": {
    "name": "ipython",
    "version": 3
   },
   "file_extension": ".py",
   "mimetype": "text/x-python",
   "name": "python",
   "nbconvert_exporter": "python",
   "pygments_lexer": "ipython3",
   "version": "3.8.8"
  }
 },
 "nbformat": 4,
 "nbformat_minor": 5
}
