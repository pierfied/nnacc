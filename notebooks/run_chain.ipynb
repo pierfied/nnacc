{
 "cells": [
  {
   "cell_type": "code",
   "execution_count": 1,
   "id": "8566a867",
   "metadata": {},
   "outputs": [],
   "source": [
    "import torch\n",
    "import torch.nn as nn\n",
    "from torch.utils.data import Dataset, DataLoader\n",
    "import nnacc\n",
    "from glob import glob\n",
    "import numpy as np\n",
    "import matplotlib.pyplot as plt\n",
    "import pickle"
   ]
  },
  {
   "cell_type": "code",
   "execution_count": 2,
   "id": "d6e40979-c019-4976-8e9e-761d2f8452d1",
   "metadata": {},
   "outputs": [],
   "source": [
    "data_dir = './demo_data/'\n",
    "\n",
    "mask = np.loadtxt(data_dir + 'mask_gamma.txt')[:,1].astype(bool)\n",
    "\n",
    "inv_cov = np.load(data_dir + 'invcov_gamma.npy')[:,mask][mask,:]\n",
    "cov = np.linalg.inv(inv_cov)\n",
    "sigma = np.sqrt(np.diag(cov))\n",
    "cov /= sigma[None,:] * sigma[:,None]\n",
    "inv_cov = torch.tensor(np.linalg.inv(cov), dtype=torch.float)\n",
    "\n",
    "obs_datavector = torch.tensor(np.loadtxt(data_dir + 'combined.txt')[mask,1] / sigma, dtype=torch.float)\n",
    "\n",
    "priors = []\n",
    "\n",
    "f = open(data_dir + 'prior.txt', 'r')\n",
    "for line in f:\n",
    "    param = line.split()\n",
    "    priors.append({\n",
    "        'param': param[0],\n",
    "        'dist': param[1],\n",
    "        'arg1': float(param[2]),\n",
    "        'arg2': float(param[3])\n",
    "    })\n",
    "f.close()"
   ]
  },
  {
   "cell_type": "code",
   "execution_count": 3,
   "id": "3984d95b-393a-4565-921a-88b7d000657b",
   "metadata": {},
   "outputs": [
    {
     "data": {
      "text/plain": [
       "<All keys matched successfully>"
      ]
     },
     "execution_count": 3,
     "metadata": {},
     "output_type": "execute_result"
    }
   ],
   "source": [
    "class X_transform(nn.Module):\n",
    "    def __init__(self, X_mean=None, X_std=None):\n",
    "        super(X_transform, self).__init__()\n",
    "        \n",
    "        self.X_mean = nn.Parameter(X_mean)\n",
    "        self.X_std = nn.Parameter(X_std)\n",
    "        \n",
    "    def forward(self, X):\n",
    "        return (X - self.X_mean[None,:]) / self.X_std[None,:]\n",
    "\n",
    "class y_transform(nn.Module):\n",
    "    def __init__(self, y_mean=None, y_std=None):\n",
    "        super(y_transform, self).__init__()\n",
    "        \n",
    "        self.y_mean = nn.Parameter(y_mean)\n",
    "        self.y_std = nn.Parameter(y_std)\n",
    "        \n",
    "    def forward(self, y):\n",
    "        return y * self.y_std[None,:] + self.y_mean[None,:]\n",
    "\n",
    "xtransf = X_transform(torch.zeros(len(priors)), torch.zeros(len(priors)))\n",
    "ytransf = y_transform(torch.zeros(mask.sum()), torch.zeros(mask.sum()))\n",
    "model = nnacc.Predictor(len(priors), mask.sum(), X_transform=xtransf, y_transform=ytransf)\n",
    "\n",
    "model.load_state_dict(torch.load(data_dir + 'model.pt'))"
   ]
  },
  {
   "cell_type": "markdown",
   "id": "774bf141-207a-4121-bd5b-755d70c7e38e",
   "metadata": {},
   "source": [
    "Note that bounded parameters need to be transformed to unbounded ones to avoid numerical issues with HMC at the bounds. To do this, we reparameterize the uniform priors as Gaussians and then transform them back to uniform when needed. In this demo, for simplicity of the prior expression, all parameters are reparameterized as standard normal distributions and transformed to the appropriate distribution."
   ]
  },
  {
   "cell_type": "code",
   "execution_count": 4,
   "id": "464d6a49",
   "metadata": {},
   "outputs": [],
   "source": [
    "def gauss2unif(x):\n",
    "    return 0.5 * (1 + torch.erf(x / np.sqrt(2)))\n",
    "\n",
    "def transform(x):\n",
    "    transformed_x = []\n",
    "    \n",
    "    for i, p in enumerate(priors):\n",
    "        if p['dist'] == 'gauss':\n",
    "            transformed_x.append(x[i] * p['arg2'] + p['arg1'])\n",
    "        else:\n",
    "            transformed_x.append(gauss2unif(x[i]) * (p['arg2'] - p['arg1']) + p['arg1'])\n",
    "    \n",
    "    return torch.stack(transformed_x)"
   ]
  },
  {
   "cell_type": "code",
   "execution_count": 5,
   "id": "5253f6d4",
   "metadata": {},
   "outputs": [],
   "source": [
    "def prior(x):\n",
    "    return -0.5 * torch.sum(x.square())\n",
    "\n",
    "def likelihood(x):\n",
    "    pred_datavector = model(transform(x))\n",
    "    \n",
    "    delta = pred_datavector - obs_datavector\n",
    "    \n",
    "    return -0.5 * (delta @ inv_cov @ delta)\n",
    "\n",
    "def posterior(x):\n",
    "    return prior(x) + likelihood(x)"
   ]
  },
  {
   "cell_type": "code",
   "execution_count": 6,
   "id": "d24e9e66-4fd7-41c9-83ff-c634e75dfefe",
   "metadata": {},
   "outputs": [],
   "source": [
    "x0 = transform(torch.randn(len(priors)) * 0.1)\n",
    "\n",
    "sampler = nnacc.Sampler(posterior, x0, transform=transform)"
   ]
  },
  {
   "cell_type": "markdown",
   "id": "aa8f077d-2ad4-4f69-921b-a016e2a2b2ea",
   "metadata": {},
   "source": [
    "Here we'll calculate the mass matrix using the Hessian to approximate the posterior covariance matrix at the maximum a posteriori point. Alternatively, the mass matrix can be passed directly to the sampler. By default, if none is provided, the sampler will assume the mass matrix is the identity matrix. The mass matrix is assumed to be diagonal, so only pass the diagonal of the mass matrix."
   ]
  },
  {
   "cell_type": "code",
   "execution_count": 7,
   "id": "87cbfaa1-4bd0-47aa-a28f-cfe760e115e3",
   "metadata": {},
   "outputs": [
    {
     "data": {
      "application/vnd.jupyter.widget-view+json": {
       "model_id": "7c6bde2291284d61baf3654c13653a31",
       "version_major": 2,
       "version_minor": 0
      },
      "text/plain": [
       "  0%|          | 0/10000 [00:00<?, ?it/s]"
      ]
     },
     "metadata": {},
     "output_type": "display_data"
    }
   ],
   "source": [
    "sampler.calc_hess_mass_mat(nsteps=10000, eps=2e-4)"
   ]
  },
  {
   "cell_type": "code",
   "execution_count": 8,
   "id": "a2f0d36f",
   "metadata": {},
   "outputs": [
    {
     "data": {
      "image/png": "[encoded data removed]",
      "text/plain": [
       "<Figure size 288x288 with 1 Axes>"
      ]
     },
     "metadata": {
      "needs_background": "light"
     },
     "output_type": "display_data"
    }
   ],
   "source": [
    "cov = sampler.u @ np.diag(1 / sampler.m) @ sampler.u.T\n",
    "\n",
    "plt.matshow(cov)\n",
    "plt.title('Maximum a Posteriori Hessian Covariance matrix')\n",
    "plt.show()"
   ]
  },
  {
   "cell_type": "markdown",
   "id": "b6e161fd-98c6-4117-9707-6c625a644636",
   "metadata": {},
   "source": [
    "The above Hessian covariance calculation resampled the initial point to a random draw from the covariance matrix."
   ]
  },
  {
   "cell_type": "code",
   "execution_count": 9,
   "id": "9f48d290-f57e-40d3-9f39-b19a12f01e47",
   "metadata": {},
   "outputs": [
    {
     "data": {
      "text/plain": [
       "tensor([-0.0051,  0.0332,  0.0505,  0.1061,  0.0785, -0.0244,  0.0728, -0.2767,\n",
       "         0.2406, -0.3710,  0.5370,  0.0587,  0.7870,  0.5335, -0.9287, -1.4863,\n",
       "        -0.9685,  0.3960, -0.1055, -0.6672, -0.3665, -0.5956,  0.1077,  1.7324,\n",
       "         0.0087, -0.2603, -1.3477,  0.6484, -1.2468, -0.4421, -1.1104, -0.6061])"
      ]
     },
     "execution_count": 9,
     "metadata": {},
     "output_type": "execute_result"
    }
   ],
   "source": [
    "sampler.x0"
   ]
  },
  {
   "cell_type": "code",
   "execution_count": 10,
   "id": "4bb8debe",
   "metadata": {},
   "outputs": [
    {
     "data": {
      "application/vnd.jupyter.widget-view+json": {
       "model_id": "73154b49496f42308219d9c1de286dea",
       "version_major": 2,
       "version_minor": 0
      },
      "text/plain": [
       "0it [00:00, ?it/s]"
      ]
     },
     "metadata": {},
     "output_type": "display_data"
    },
    {
     "data": {
      "application/vnd.jupyter.widget-view+json": {
       "model_id": "75185c8ff3854ec7aca65ac7f1a66e7a",
       "version_major": 2,
       "version_minor": 0
      },
      "text/plain": [
       "  0%|          | 0/10000 [00:00<?, ?it/s]"
      ]
     },
     "metadata": {},
     "output_type": "display_data"
    }
   ],
   "source": [
    "chain = sampler.sample(nburn=0, burn_steps=0, burn_eps=0, nsamp=10000, samp_steps=1, samp_eps=0.05)"
   ]
  },
  {
   "cell_type": "markdown",
   "id": "090a16f6-3523-43c3-8bf1-240c8b71fbd7",
   "metadata": {},
   "source": [
    "Here we see one sample from the chain. Note, since we passed ```transform``` to the sampler, the output of the chain is in the original parameter space."
   ]
  },
  {
   "cell_type": "code",
   "execution_count": 11,
   "id": "1e3d8f42-8844-4f71-afdb-4c6fbc066a55",
   "metadata": {},
   "outputs": [
    {
     "data": {
      "text/plain": [
       "{'x': array([ 1.0000000e-01,  4.9999999e-10,  1.0660380e+00,  3.1328592e-02,\n",
       "         6.0784176e-04,  5.5000001e-01,  1.8436658e+00,  2.9936974e+00,\n",
       "         2.7972939e+00,  8.9421141e-01,  2.7787435e+00,  4.1863684e-02,\n",
       "         6.5875286e-03, -1.0373003e-02,  4.8641646e-03, -4.0771522e-02,\n",
       "        -2.0841786e-03, -3.6611091e-02, -1.6491504e-02,  3.7746403e-02,\n",
       "         2.0279510e-01,  1.1083504e-01,  1.7496713e-02, -8.4792525e-02,\n",
       "        -1.0691175e+00, -4.8667059e+00,  4.9985824e+00,  1.5000000e+00,\n",
       "         1.0000003e-01,  3.3407211e-02,  1.0289605e+00,  9.9954438e-01],\n",
       "       dtype=float32),\n",
       " 'lnP': array(-5902.9834, dtype=float32),\n",
       " 'accpet_ratio': 1.0,\n",
       " 'accept_prob': 1.0,\n",
       " 'accepted': True}"
      ]
     },
     "execution_count": 11,
     "metadata": {},
     "output_type": "execute_result"
    }
   ],
   "source": [
    "chain[0]"
   ]
  },
  {
   "cell_type": "code",
   "execution_count": 12,
   "id": "b354842f-3c99-498f-9140-c335d496c127",
   "metadata": {},
   "outputs": [
    {
     "name": "stdout",
     "output_type": "stream",
     "text": [
      "Acceptance Rate:  0.0358\n"
     ]
    }
   ],
   "source": [
    "print('Acceptance Rate: ', np.mean([samp['accepted'] for samp in chain]))"
   ]
  },
  {
   "cell_type": "code",
   "execution_count": 13,
   "id": "c546a0e2-616d-4692-a62e-7f860eca1bac",
   "metadata": {},
   "outputs": [
    {
     "data": {
      "image/png": "[encoded data removed]",
      "text/plain": [
       "<Figure size 432x288 with 1 Axes>"
      ]
     },
     "metadata": {
      "needs_background": "light"
     },
     "output_type": "display_data"
    }
   ],
   "source": [
    "plt.plot([samp['lnP'] for samp in chain])\n",
    "plt.xlabel('Sample')\n",
    "plt.ylabel('$\\\\ln P$')\n",
    "plt.show()"
   ]
  },
  {
   "cell_type": "code",
   "execution_count": 14,
   "id": "c476971f",
   "metadata": {},
   "outputs": [],
   "source": [
    "pickle.dump(chain, open(data_dir + 'chain.p', 'wb'))"
   ]
  },
  {
   "cell_type": "code",
   "execution_count": null,
   "id": "a37bbd81",
   "metadata": {},
   "outputs": [],
   "source": []
  }
 ],
 "metadata": {
  "kernelspec": {
   "display_name": "Python 3",
   "language": "python",
   "name": "python3"
  },
  "language_info": {
   "codemirror_mode": {
    "name": "ipython",
    "version": 3
   },
   "file_extension": ".py",
   "mimetype": "text/x-python",
   "name": "python",
   "nbconvert_exporter": "python",
   "pygments_lexer": "ipython3",
   "version": "3.8.8"
  }
 },
 "nbformat": 4,
 "nbformat_minor": 5
}
